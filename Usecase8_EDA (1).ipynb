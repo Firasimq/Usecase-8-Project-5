{
 "cells": [
  {
   "cell_type": "code",
   "execution_count": 1,
   "id": "08d33a10-2ba7-4468-97d7-4e6a31bc2018",
   "metadata": {},
   "outputs": [],
   "source": [
    "import pandas as pd\n",
    "import matplotlib.pyplot as plt"
   ]
  },
  {
   "cell_type": "markdown",
   "id": "d67897a0-3894-4eb2-8482-07782d0dcbe8",
   "metadata": {},
   "source": [
    "## Loading the data:"
   ]
  },
  {
   "cell_type": "code",
   "execution_count": 3,
   "id": "d623cdac-b4ca-40bc-a5d3-3422f70998d7",
   "metadata": {},
   "outputs": [],
   "source": [
    "df = pd.read_csv(\"restaurants_data.csv\")"
   ]
  },
  {
   "cell_type": "markdown",
   "id": "5f087484-6612-4ba7-9e17-1afa1994aebc",
   "metadata": {},
   "source": [
    "### Viewing the dataframe :"
   ]
  },
  {
   "cell_type": "code",
   "execution_count": 5,
   "id": "4f193a75-2737-4cd1-b1dc-20f361517cae",
   "metadata": {},
   "outputs": [
    {
     "data": {
      "text/html": [
       "<div>\n",
       "<style scoped>\n",
       "    .dataframe tbody tr th:only-of-type {\n",
       "        vertical-align: middle;\n",
       "    }\n",
       "\n",
       "    .dataframe tbody tr th {\n",
       "        vertical-align: top;\n",
       "    }\n",
       "\n",
       "    .dataframe thead th {\n",
       "        text-align: right;\n",
       "    }\n",
       "</style>\n",
       "<table border=\"1\" class=\"dataframe\">\n",
       "  <thead>\n",
       "    <tr style=\"text-align: right;\">\n",
       "      <th></th>\n",
       "      <th>Name</th>\n",
       "      <th>Cuisines</th>\n",
       "      <th>City</th>\n",
       "      <th>Rating</th>\n",
       "      <th>NumberOfReviews</th>\n",
       "    </tr>\n",
       "  </thead>\n",
       "  <tbody>\n",
       "    <tr>\n",
       "      <th>0</th>\n",
       "      <td>Wakame - Riyadh</td>\n",
       "      <td>\\n\\n                    Japanese, Asian\\n     ...</td>\n",
       "      <td>\\n\\n\\n                    Riyadh\\n            ...</td>\n",
       "      <td>\\n4.9\\n</td>\n",
       "      <td>\\n                        (\\n                 ...</td>\n",
       "    </tr>\n",
       "    <tr>\n",
       "      <th>1</th>\n",
       "      <td>Morini Italian Restaurant - Jareed Hotel - Riyadh</td>\n",
       "      <td>\\n\\n                    International, Italian...</td>\n",
       "      <td>\\n\\n\\n                    Riyadh\\n            ...</td>\n",
       "      <td>Very Good</td>\n",
       "      <td>\\n                        (\\n                 ...</td>\n",
       "    </tr>\n",
       "    <tr>\n",
       "      <th>2</th>\n",
       "      <td>Wakame - Jeddah</td>\n",
       "      <td>\\n\\n                    Chinese, Japanese\\n   ...</td>\n",
       "      <td>\\n\\n\\n                    Jeddah\\n            ...</td>\n",
       "      <td>\\n4.8\\n</td>\n",
       "      <td>\\n                        (\\n                 ...</td>\n",
       "    </tr>\n",
       "    <tr>\n",
       "      <th>3</th>\n",
       "      <td>Il Baretto Italian Restaurant - KAFD - Riyadh</td>\n",
       "      <td>\\n\\n                    Italian\\n             ...</td>\n",
       "      <td>\\n\\n\\n                    Riyadh\\n            ...</td>\n",
       "      <td>Very Good</td>\n",
       "      <td>\\n                        (\\n                 ...</td>\n",
       "    </tr>\n",
       "    <tr>\n",
       "      <th>4</th>\n",
       "      <td>Vidro Lounge - Riyadh</td>\n",
       "      <td>\\n\\n                    Mediterranean, Middle ...</td>\n",
       "      <td>\\n\\n\\n                    Riyadh\\n            ...</td>\n",
       "      <td>\\n4.7\\n</td>\n",
       "      <td>\\n                        (\\n                 ...</td>\n",
       "    </tr>\n",
       "    <tr>\n",
       "      <th>5</th>\n",
       "      <td>Tokyo Fine Dining Japanese - Restaurant - Riyadh</td>\n",
       "      <td>\\n\\n                    Japanese\\n            ...</td>\n",
       "      <td>\\n\\n\\n                    Riyadh\\n            ...</td>\n",
       "      <td>Very Good</td>\n",
       "      <td>\\n                        (\\n                 ...</td>\n",
       "    </tr>\n",
       "    <tr>\n",
       "      <th>6</th>\n",
       "      <td>Pikniq Restaurant - Khobar</td>\n",
       "      <td>\\n\\n                    International, French,...</td>\n",
       "      <td>\\n\\n\\n                    Al Khobar\\n         ...</td>\n",
       "      <td>\\n4.7\\n</td>\n",
       "      <td>\\n                        (\\n                 ...</td>\n",
       "    </tr>\n",
       "    <tr>\n",
       "      <th>7</th>\n",
       "      <td>AOK Kitchen - KAFD - Riyadh</td>\n",
       "      <td>\\n\\n                    Gluten Free Option, In...</td>\n",
       "      <td>\\n\\n\\n                    Riyadh\\n            ...</td>\n",
       "      <td>Very Good</td>\n",
       "      <td>\\n                        (\\n                 ...</td>\n",
       "    </tr>\n",
       "    <tr>\n",
       "      <th>8</th>\n",
       "      <td>Entrecote Cafe de Paris - AlUla</td>\n",
       "      <td>\\n\\n                    Swiss\\n               ...</td>\n",
       "      <td>\\n\\n\\n                    AlUla\\n             ...</td>\n",
       "      <td>\\n4.7\\n</td>\n",
       "      <td>\\n                        (\\n                 ...</td>\n",
       "    </tr>\n",
       "    <tr>\n",
       "      <th>9</th>\n",
       "      <td>Swiss Butter - Sidra Mall - Riyadh</td>\n",
       "      <td>\\n\\n                    Steakhouse\\n          ...</td>\n",
       "      <td>\\n\\n\\n                    Riyadh\\n            ...</td>\n",
       "      <td>Very Good</td>\n",
       "      <td>\\n                        (\\n                 ...</td>\n",
       "    </tr>\n",
       "    <tr>\n",
       "      <th>10</th>\n",
       "      <td>Swiss Butter - Corniche Park - Khobar</td>\n",
       "      <td>\\n\\n                    Steakhouse\\n          ...</td>\n",
       "      <td>\\n\\n\\n                    Al Khobar\\n         ...</td>\n",
       "      <td>\\n4.6\\n</td>\n",
       "      <td>\\n                        (\\n                 ...</td>\n",
       "    </tr>\n",
       "    <tr>\n",
       "      <th>11</th>\n",
       "      <td>Suhail Arabic Restaurant - Riyadh</td>\n",
       "      <td>\\n\\n                    Arabic, Saudi\\n       ...</td>\n",
       "      <td>\\n\\n\\n                    Riyadh\\n            ...</td>\n",
       "      <td>Very Good</td>\n",
       "      <td>\\n                        (\\n                 ...</td>\n",
       "    </tr>\n",
       "    <tr>\n",
       "      <th>12</th>\n",
       "      <td>Rove By Mint - Khobar</td>\n",
       "      <td>\\n\\n                    Italian, Mediterranean...</td>\n",
       "      <td>\\n\\n\\n                    Al Khobar\\n         ...</td>\n",
       "      <td>\\n4.6\\n</td>\n",
       "      <td>\\n                        (\\n                 ...</td>\n",
       "    </tr>\n",
       "    <tr>\n",
       "      <th>13</th>\n",
       "      <td>Swiss Butter - Sahara Mall - Riyadh</td>\n",
       "      <td>\\n\\n                    Steakhouse\\n          ...</td>\n",
       "      <td>\\n\\n\\n                    Riyadh\\n            ...</td>\n",
       "      <td>Very Good</td>\n",
       "      <td>\\n                        (\\n                 ...</td>\n",
       "    </tr>\n",
       "    <tr>\n",
       "      <th>14</th>\n",
       "      <td>Daily Edition Cafe - Jeddah</td>\n",
       "      <td>\\n\\n                    Asian, International\\n...</td>\n",
       "      <td>\\n\\n\\n                    Jeddah\\n            ...</td>\n",
       "      <td>\\n4.6\\n</td>\n",
       "      <td>\\n                        (\\n                 ...</td>\n",
       "    </tr>\n",
       "    <tr>\n",
       "      <th>15</th>\n",
       "      <td>Yauatcha Riyadh</td>\n",
       "      <td>\\n\\n                    Chinese\\n             ...</td>\n",
       "      <td>\\n\\n\\n                    Riyadh\\n            ...</td>\n",
       "      <td>Very Good</td>\n",
       "      <td>\\n                        (\\n                 ...</td>\n",
       "    </tr>\n",
       "    <tr>\n",
       "      <th>16</th>\n",
       "      <td>Entrecôte Café de Paris - Faisaliah Tower - Ri...</td>\n",
       "      <td>\\n\\n                    Swiss\\n               ...</td>\n",
       "      <td>\\n\\n\\n                    Riyadh\\n            ...</td>\n",
       "      <td>\\n4.6\\n</td>\n",
       "      <td>\\n                        (\\n                 ...</td>\n",
       "    </tr>\n",
       "    <tr>\n",
       "      <th>17</th>\n",
       "      <td>Lusin Armenian Restaurant - Riyadh</td>\n",
       "      <td>\\n\\n                    Armenian\\n            ...</td>\n",
       "      <td>\\n\\n\\n                    Riyadh\\n            ...</td>\n",
       "      <td>Very Good</td>\n",
       "      <td>\\n                        (\\n                 ...</td>\n",
       "    </tr>\n",
       "    <tr>\n",
       "      <th>18</th>\n",
       "      <td>Lusin Armenian Restaurant - Khobar</td>\n",
       "      <td>\\n\\n                    Armenian, Turkish, Veg...</td>\n",
       "      <td>\\n\\n\\n                    Al Khobar\\n         ...</td>\n",
       "      <td>\\n4.6\\n</td>\n",
       "      <td>\\n                        (\\n                 ...</td>\n",
       "    </tr>\n",
       "    <tr>\n",
       "      <th>19</th>\n",
       "      <td>Suhail Restaurant - Old Town - AlUla</td>\n",
       "      <td>\\n\\n                    Arabic, Saudi\\n       ...</td>\n",
       "      <td>\\n\\n\\n                    AlUla\\n             ...</td>\n",
       "      <td>Very Good</td>\n",
       "      <td>\\n                        (\\n                 ...</td>\n",
       "    </tr>\n",
       "  </tbody>\n",
       "</table>\n",
       "</div>"
      ],
      "text/plain": [
       "                                                 Name  \\\n",
       "0                                     Wakame - Riyadh   \n",
       "1   Morini Italian Restaurant - Jareed Hotel - Riyadh   \n",
       "2                                     Wakame - Jeddah   \n",
       "3       Il Baretto Italian Restaurant - KAFD - Riyadh   \n",
       "4                               Vidro Lounge - Riyadh   \n",
       "5    Tokyo Fine Dining Japanese - Restaurant - Riyadh   \n",
       "6                          Pikniq Restaurant - Khobar   \n",
       "7                         AOK Kitchen - KAFD - Riyadh   \n",
       "8                     Entrecote Cafe de Paris - AlUla   \n",
       "9                  Swiss Butter - Sidra Mall - Riyadh   \n",
       "10              Swiss Butter - Corniche Park - Khobar   \n",
       "11                  Suhail Arabic Restaurant - Riyadh   \n",
       "12                              Rove By Mint - Khobar   \n",
       "13                Swiss Butter - Sahara Mall - Riyadh   \n",
       "14                        Daily Edition Cafe - Jeddah   \n",
       "15                                    Yauatcha Riyadh   \n",
       "16  Entrecôte Café de Paris - Faisaliah Tower - Ri...   \n",
       "17                 Lusin Armenian Restaurant - Riyadh   \n",
       "18                 Lusin Armenian Restaurant - Khobar   \n",
       "19               Suhail Restaurant - Old Town - AlUla   \n",
       "\n",
       "                                             Cuisines  \\\n",
       "0   \\n\\n                    Japanese, Asian\\n     ...   \n",
       "1   \\n\\n                    International, Italian...   \n",
       "2   \\n\\n                    Chinese, Japanese\\n   ...   \n",
       "3   \\n\\n                    Italian\\n             ...   \n",
       "4   \\n\\n                    Mediterranean, Middle ...   \n",
       "5   \\n\\n                    Japanese\\n            ...   \n",
       "6   \\n\\n                    International, French,...   \n",
       "7   \\n\\n                    Gluten Free Option, In...   \n",
       "8   \\n\\n                    Swiss\\n               ...   \n",
       "9   \\n\\n                    Steakhouse\\n          ...   \n",
       "10  \\n\\n                    Steakhouse\\n          ...   \n",
       "11  \\n\\n                    Arabic, Saudi\\n       ...   \n",
       "12  \\n\\n                    Italian, Mediterranean...   \n",
       "13  \\n\\n                    Steakhouse\\n          ...   \n",
       "14  \\n\\n                    Asian, International\\n...   \n",
       "15  \\n\\n                    Chinese\\n             ...   \n",
       "16  \\n\\n                    Swiss\\n               ...   \n",
       "17  \\n\\n                    Armenian\\n            ...   \n",
       "18  \\n\\n                    Armenian, Turkish, Veg...   \n",
       "19  \\n\\n                    Arabic, Saudi\\n       ...   \n",
       "\n",
       "                                                 City     Rating  \\\n",
       "0   \\n\\n\\n                    Riyadh\\n            ...    \\n4.9\\n   \n",
       "1   \\n\\n\\n                    Riyadh\\n            ...  Very Good   \n",
       "2   \\n\\n\\n                    Jeddah\\n            ...    \\n4.8\\n   \n",
       "3   \\n\\n\\n                    Riyadh\\n            ...  Very Good   \n",
       "4   \\n\\n\\n                    Riyadh\\n            ...    \\n4.7\\n   \n",
       "5   \\n\\n\\n                    Riyadh\\n            ...  Very Good   \n",
       "6   \\n\\n\\n                    Al Khobar\\n         ...    \\n4.7\\n   \n",
       "7   \\n\\n\\n                    Riyadh\\n            ...  Very Good   \n",
       "8   \\n\\n\\n                    AlUla\\n             ...    \\n4.7\\n   \n",
       "9   \\n\\n\\n                    Riyadh\\n            ...  Very Good   \n",
       "10  \\n\\n\\n                    Al Khobar\\n         ...    \\n4.6\\n   \n",
       "11  \\n\\n\\n                    Riyadh\\n            ...  Very Good   \n",
       "12  \\n\\n\\n                    Al Khobar\\n         ...    \\n4.6\\n   \n",
       "13  \\n\\n\\n                    Riyadh\\n            ...  Very Good   \n",
       "14  \\n\\n\\n                    Jeddah\\n            ...    \\n4.6\\n   \n",
       "15  \\n\\n\\n                    Riyadh\\n            ...  Very Good   \n",
       "16  \\n\\n\\n                    Riyadh\\n            ...    \\n4.6\\n   \n",
       "17  \\n\\n\\n                    Riyadh\\n            ...  Very Good   \n",
       "18  \\n\\n\\n                    Al Khobar\\n         ...    \\n4.6\\n   \n",
       "19  \\n\\n\\n                    AlUla\\n             ...  Very Good   \n",
       "\n",
       "                                      NumberOfReviews  \n",
       "0   \\n                        (\\n                 ...  \n",
       "1   \\n                        (\\n                 ...  \n",
       "2   \\n                        (\\n                 ...  \n",
       "3   \\n                        (\\n                 ...  \n",
       "4   \\n                        (\\n                 ...  \n",
       "5   \\n                        (\\n                 ...  \n",
       "6   \\n                        (\\n                 ...  \n",
       "7   \\n                        (\\n                 ...  \n",
       "8   \\n                        (\\n                 ...  \n",
       "9   \\n                        (\\n                 ...  \n",
       "10  \\n                        (\\n                 ...  \n",
       "11  \\n                        (\\n                 ...  \n",
       "12  \\n                        (\\n                 ...  \n",
       "13  \\n                        (\\n                 ...  \n",
       "14  \\n                        (\\n                 ...  \n",
       "15  \\n                        (\\n                 ...  \n",
       "16  \\n                        (\\n                 ...  \n",
       "17  \\n                        (\\n                 ...  \n",
       "18  \\n                        (\\n                 ...  \n",
       "19  \\n                        (\\n                 ...  "
      ]
     },
     "execution_count": 5,
     "metadata": {},
     "output_type": "execute_result"
    }
   ],
   "source": [
    "df.head(20)"
   ]
  },
  {
   "cell_type": "markdown",
   "id": "b76fb2f5-f81b-483e-94b9-9ba638fa0f8d",
   "metadata": {},
   "source": [
    "## 1. Data Profiling:"
   ]
  },
  {
   "cell_type": "code",
   "execution_count": 7,
   "id": "45ff07b8-b94a-47da-9114-b96a8b37afe1",
   "metadata": {},
   "outputs": [
    {
     "name": "stdout",
     "output_type": "stream",
     "text": [
      "<class 'pandas.core.frame.DataFrame'>\n",
      "RangeIndex: 1369 entries, 0 to 1368\n",
      "Data columns (total 5 columns):\n",
      " #   Column           Non-Null Count  Dtype \n",
      "---  ------           --------------  ----- \n",
      " 0   Name             1369 non-null   object\n",
      " 1   Cuisines         1369 non-null   object\n",
      " 2   City             1369 non-null   object\n",
      " 3   Rating           1369 non-null   object\n",
      " 4   NumberOfReviews  1369 non-null   object\n",
      "dtypes: object(5)\n",
      "memory usage: 53.6+ KB\n"
     ]
    }
   ],
   "source": [
    "df.info()"
   ]
  },
  {
   "cell_type": "code",
   "execution_count": 8,
   "id": "c5dcf249-2d20-409f-82fe-a28a0d9524b9",
   "metadata": {},
   "outputs": [
    {
     "data": {
      "text/html": [
       "<div>\n",
       "<style scoped>\n",
       "    .dataframe tbody tr th:only-of-type {\n",
       "        vertical-align: middle;\n",
       "    }\n",
       "\n",
       "    .dataframe tbody tr th {\n",
       "        vertical-align: top;\n",
       "    }\n",
       "\n",
       "    .dataframe thead th {\n",
       "        text-align: right;\n",
       "    }\n",
       "</style>\n",
       "<table border=\"1\" class=\"dataframe\">\n",
       "  <thead>\n",
       "    <tr style=\"text-align: right;\">\n",
       "      <th></th>\n",
       "      <th>Name</th>\n",
       "      <th>Cuisines</th>\n",
       "      <th>City</th>\n",
       "      <th>Rating</th>\n",
       "      <th>NumberOfReviews</th>\n",
       "    </tr>\n",
       "  </thead>\n",
       "  <tbody>\n",
       "    <tr>\n",
       "      <th>count</th>\n",
       "      <td>1369</td>\n",
       "      <td>1369</td>\n",
       "      <td>1369</td>\n",
       "      <td>1369</td>\n",
       "      <td>1369</td>\n",
       "    </tr>\n",
       "    <tr>\n",
       "      <th>unique</th>\n",
       "      <td>1344</td>\n",
       "      <td>261</td>\n",
       "      <td>12</td>\n",
       "      <td>22</td>\n",
       "      <td>74</td>\n",
       "    </tr>\n",
       "    <tr>\n",
       "      <th>top</th>\n",
       "      <td>Wakame - Riyadh</td>\n",
       "      <td>\\n\\n                    Cafe, Coffee &amp; Tea, De...</td>\n",
       "      <td>\\n\\n\\n                    Jeddah\\n            ...</td>\n",
       "      <td>Very Good</td>\n",
       "      <td>\\n                        (\\n                 ...</td>\n",
       "    </tr>\n",
       "    <tr>\n",
       "      <th>freq</th>\n",
       "      <td>2</td>\n",
       "      <td>173</td>\n",
       "      <td>461</td>\n",
       "      <td>523</td>\n",
       "      <td>46</td>\n",
       "    </tr>\n",
       "  </tbody>\n",
       "</table>\n",
       "</div>"
      ],
      "text/plain": [
       "                   Name                                           Cuisines  \\\n",
       "count              1369                                               1369   \n",
       "unique             1344                                                261   \n",
       "top     Wakame - Riyadh  \\n\\n                    Cafe, Coffee & Tea, De...   \n",
       "freq                  2                                                173   \n",
       "\n",
       "                                                     City     Rating  \\\n",
       "count                                                1369       1369   \n",
       "unique                                                 12         22   \n",
       "top     \\n\\n\\n                    Jeddah\\n            ...  Very Good   \n",
       "freq                                                  461        523   \n",
       "\n",
       "                                          NumberOfReviews  \n",
       "count                                                1369  \n",
       "unique                                                 74  \n",
       "top     \\n                        (\\n                 ...  \n",
       "freq                                                   46  "
      ]
     },
     "execution_count": 8,
     "metadata": {},
     "output_type": "execute_result"
    }
   ],
   "source": [
    "df.describe(include=[object])"
   ]
  },
  {
   "cell_type": "code",
   "execution_count": 9,
   "id": "d90b52ba-02ab-4f68-ae66-308015843d93",
   "metadata": {},
   "outputs": [
    {
     "data": {
      "text/plain": [
       "(1369, 5)"
      ]
     },
     "execution_count": 9,
     "metadata": {},
     "output_type": "execute_result"
    }
   ],
   "source": [
    "df.shape"
   ]
  },
  {
   "cell_type": "code",
   "execution_count": 10,
   "id": "179755ab-6d72-4dee-9b93-a76efccf6bad",
   "metadata": {},
   "outputs": [
    {
     "data": {
      "text/plain": [
       "Name               1344\n",
       "Cuisines            261\n",
       "City                 12\n",
       "Rating               22\n",
       "NumberOfReviews      74\n",
       "dtype: int64"
      ]
     },
     "execution_count": 10,
     "metadata": {},
     "output_type": "execute_result"
    }
   ],
   "source": [
    "df.nunique()"
   ]
  },
  {
   "cell_type": "code",
   "execution_count": 11,
   "id": "e0cd4897-b00c-4253-9b4c-473e484c017b",
   "metadata": {},
   "outputs": [
    {
     "data": {
      "text/html": [
       "<div>\n",
       "<style scoped>\n",
       "    .dataframe tbody tr th:only-of-type {\n",
       "        vertical-align: middle;\n",
       "    }\n",
       "\n",
       "    .dataframe tbody tr th {\n",
       "        vertical-align: top;\n",
       "    }\n",
       "\n",
       "    .dataframe thead th {\n",
       "        text-align: right;\n",
       "    }\n",
       "</style>\n",
       "<table border=\"1\" class=\"dataframe\">\n",
       "  <thead>\n",
       "    <tr style=\"text-align: right;\">\n",
       "      <th></th>\n",
       "      <th>Name</th>\n",
       "      <th>Cuisines</th>\n",
       "      <th>City</th>\n",
       "      <th>Rating</th>\n",
       "      <th>NumberOfReviews</th>\n",
       "    </tr>\n",
       "  </thead>\n",
       "  <tbody>\n",
       "    <tr>\n",
       "      <th>349</th>\n",
       "      <td>La Romana dal 1947 Cafe - Riyadh</td>\n",
       "      <td>\\n\\n                    Italian\\n             ...</td>\n",
       "      <td>\\n\\n\\n                    Riyadh\\n            ...</td>\n",
       "      <td>\\n4.5\\n</td>\n",
       "      <td>\\n                        (\\n                 ...</td>\n",
       "    </tr>\n",
       "    <tr>\n",
       "      <th>914</th>\n",
       "      <td>Madinah Restaurant - Hilton Hotel - Madinah</td>\n",
       "      <td>\\n\\n                    Arabic, Asian, Interna...</td>\n",
       "      <td>\\n\\n\\n                    Madinah\\n           ...</td>\n",
       "      <td>Very Good</td>\n",
       "      <td>\\n                        (\\n                 ...</td>\n",
       "    </tr>\n",
       "    <tr>\n",
       "      <th>172</th>\n",
       "      <td>Al Masaa Cafe - The Largest Coffee Shop in The...</td>\n",
       "      <td>\\n\\n                    Cafe, Coffee &amp; Tea, De...</td>\n",
       "      <td>\\n\\n\\n                    Riyadh\\n            ...</td>\n",
       "      <td>Very Good</td>\n",
       "      <td>\\n                        (\\n                 ...</td>\n",
       "    </tr>\n",
       "  </tbody>\n",
       "</table>\n",
       "</div>"
      ],
      "text/plain": [
       "                                                  Name  \\\n",
       "349                   La Romana dal 1947 Cafe - Riyadh   \n",
       "914        Madinah Restaurant - Hilton Hotel - Madinah   \n",
       "172  Al Masaa Cafe - The Largest Coffee Shop in The...   \n",
       "\n",
       "                                              Cuisines  \\\n",
       "349  \\n\\n                    Italian\\n             ...   \n",
       "914  \\n\\n                    Arabic, Asian, Interna...   \n",
       "172  \\n\\n                    Cafe, Coffee & Tea, De...   \n",
       "\n",
       "                                                  City     Rating  \\\n",
       "349  \\n\\n\\n                    Riyadh\\n            ...    \\n4.5\\n   \n",
       "914  \\n\\n\\n                    Madinah\\n           ...  Very Good   \n",
       "172  \\n\\n\\n                    Riyadh\\n            ...  Very Good   \n",
       "\n",
       "                                       NumberOfReviews  \n",
       "349  \\n                        (\\n                 ...  \n",
       "914  \\n                        (\\n                 ...  \n",
       "172  \\n                        (\\n                 ...  "
      ]
     },
     "execution_count": 11,
     "metadata": {},
     "output_type": "execute_result"
    }
   ],
   "source": [
    "df.sample(3)"
   ]
  },
  {
   "cell_type": "code",
   "execution_count": 12,
   "id": "5c442e53-594b-4c79-9442-a1992dd063d4",
   "metadata": {},
   "outputs": [
    {
     "data": {
      "text/plain": [
       "Index(['Name', 'Cuisines', 'City', 'Rating', 'NumberOfReviews'], dtype='object')"
      ]
     },
     "execution_count": 12,
     "metadata": {},
     "output_type": "execute_result"
    }
   ],
   "source": [
    "df.columns"
   ]
  },
  {
   "cell_type": "code",
   "execution_count": 13,
   "id": "398a4579-35c7-4439-8724-4b396e546ab8",
   "metadata": {},
   "outputs": [
    {
     "data": {
      "text/plain": [
       "Name               object\n",
       "Cuisines           object\n",
       "City               object\n",
       "Rating             object\n",
       "NumberOfReviews    object\n",
       "dtype: object"
      ]
     },
     "execution_count": 13,
     "metadata": {},
     "output_type": "execute_result"
    }
   ],
   "source": [
    "df.dtypes"
   ]
  },
  {
   "cell_type": "code",
   "execution_count": 14,
   "id": "51d4fa7b-58a5-4006-9124-6cf248faf321",
   "metadata": {},
   "outputs": [
    {
     "data": {
      "text/plain": [
       "Name               1369\n",
       "Cuisines           1369\n",
       "City               1369\n",
       "Rating             1369\n",
       "NumberOfReviews    1369\n",
       "dtype: int64"
      ]
     },
     "execution_count": 14,
     "metadata": {},
     "output_type": "execute_result"
    }
   ],
   "source": [
    "df.count()"
   ]
  },
  {
   "cell_type": "markdown",
   "id": "aaca8cdf-2791-4b3b-8f70-9efbb41beffd",
   "metadata": {},
   "source": [
    "## Data Quality Checks :"
   ]
  },
  {
   "cell_type": "markdown",
   "id": "6496fe28-5c6d-4ee7-b065-e28474249aae",
   "metadata": {},
   "source": [
    "### 1. Reliability:"
   ]
  },
  {
   "cell_type": "code",
   "execution_count": 17,
   "id": "971a2da1-d392-4038-aac3-a9fa8e56b6da",
   "metadata": {},
   "outputs": [],
   "source": [
    "# The data source is Reliabile"
   ]
  },
  {
   "cell_type": "markdown",
   "id": "2022147b-9328-41c0-b208-2b7b9de594e7",
   "metadata": {},
   "source": [
    "### 2. Timeliness:"
   ]
  },
  {
   "cell_type": "code",
   "execution_count": 19,
   "id": "ac725afb-a93e-481b-8a06-5d5afabea862",
   "metadata": {},
   "outputs": [],
   "source": [
    "# The data is up to date "
   ]
  },
  {
   "cell_type": "markdown",
   "id": "33006870-fd6e-4042-90fa-df5a18f9f78b",
   "metadata": {},
   "source": [
    "### 3. Consistency: :"
   ]
  },
  {
   "cell_type": "code",
   "execution_count": 21,
   "id": "99870f90-1b47-4204-b60e-5c3f421932b9",
   "metadata": {},
   "outputs": [],
   "source": [
    "# The data is consistent "
   ]
  },
  {
   "cell_type": "markdown",
   "id": "85b04587-52f6-4d91-8306-d553182ccd2e",
   "metadata": {},
   "source": [
    "### 4. Relevance: "
   ]
  },
  {
   "cell_type": "code",
   "execution_count": 23,
   "id": "2b31b4c4-6191-4e32-a242-42597f3c2191",
   "metadata": {},
   "outputs": [],
   "source": [
    "# The dat is relavent "
   ]
  },
  {
   "cell_type": "markdown",
   "id": "2839bacc-42eb-4ad8-90ef-e1d60235ee8a",
   "metadata": {},
   "source": [
    "### 5. Uniqueness:"
   ]
  },
  {
   "cell_type": "code",
   "execution_count": 25,
   "id": "a1f96950-1046-47f2-86e3-c7bdd53b3632",
   "metadata": {},
   "outputs": [
    {
     "data": {
      "text/plain": [
       "10"
      ]
     },
     "execution_count": 25,
     "metadata": {},
     "output_type": "execute_result"
    }
   ],
   "source": [
    "df.duplicated().sum()"
   ]
  },
  {
   "cell_type": "code",
   "execution_count": 26,
   "id": "8a6d2353-ca55-48f4-8047-d0fc6fd8b362",
   "metadata": {},
   "outputs": [],
   "source": [
    "df.drop_duplicates(inplace=True)"
   ]
  },
  {
   "cell_type": "markdown",
   "id": "cb3b4ed0-cea1-4d57-a56d-d86913c022de",
   "metadata": {},
   "source": [
    "### 6. Completeness:"
   ]
  },
  {
   "cell_type": "code",
   "execution_count": 28,
   "id": "3240e4c0-41da-40fd-ba8d-25d07e03fee3",
   "metadata": {},
   "outputs": [
    {
     "data": {
      "text/plain": [
       "Name               0\n",
       "Cuisines           0\n",
       "City               0\n",
       "Rating             0\n",
       "NumberOfReviews    0\n",
       "dtype: int64"
      ]
     },
     "execution_count": 28,
     "metadata": {},
     "output_type": "execute_result"
    }
   ],
   "source": [
    "df.isnull().sum()"
   ]
  },
  {
   "cell_type": "markdown",
   "id": "33e7d536-ee84-4b65-8909-14fb9dcc3c27",
   "metadata": {},
   "source": [
    "### 7. Check Accuracy:"
   ]
  },
  {
   "cell_type": "code",
   "execution_count": 30,
   "id": "c980a70a-4e6f-43d1-8af1-0ca1cff5b9c9",
   "metadata": {},
   "outputs": [
    {
     "data": {
      "text/plain": [
       "Name               object\n",
       "Cuisines           object\n",
       "City               object\n",
       "Rating             object\n",
       "NumberOfReviews    object\n",
       "dtype: object"
      ]
     },
     "execution_count": 30,
     "metadata": {},
     "output_type": "execute_result"
    }
   ],
   "source": [
    "df.dtypes"
   ]
  },
  {
   "cell_type": "code",
   "execution_count": 31,
   "id": "1e98ee58-034a-4e42-8230-069946f195e8",
   "metadata": {},
   "outputs": [
    {
     "data": {
      "text/plain": [
       "Index(['Name', 'Cuisines', 'City', 'Rating', 'NumberOfReviews'], dtype='object')"
      ]
     },
     "execution_count": 31,
     "metadata": {},
     "output_type": "execute_result"
    }
   ],
   "source": [
    "df.columns"
   ]
  },
  {
   "cell_type": "markdown",
   "id": "520cb6c3-0c52-4212-978f-f9e436bc684c",
   "metadata": {},
   "source": [
    "## 2. Data Cleaning:"
   ]
  },
  {
   "cell_type": "code",
   "execution_count": 33,
   "id": "c9b1a864-9807-4c04-b632-33f7cc423074",
   "metadata": {},
   "outputs": [],
   "source": [
    "#to remove \"\\n\" from all columns\n",
    "def clean_cuisines(x):\n",
    "    if '\\n' in x:\n",
    "        return x.replace('\\n', '')\n",
    "    else:\n",
    "        return x\n",
    "\n",
    "df['Cuisines'] = df['Cuisines'].apply(clean_cuisines)\n",
    "def clean_City(x):\n",
    "    if '\\n' in x:\n",
    "        return x.replace('\\n', '')\n",
    "    else:\n",
    "        return x\n",
    "\n",
    "df['City'] = df['City'].apply(clean_City)\n",
    "def clean_Rating(x):\n",
    "    if '\\n' in x:\n",
    "        return x.replace('\\n', '')\n",
    "    else:\n",
    "        return x\n",
    "\n",
    "df['Rating'] = df['Rating'].apply(clean_Rating)\n",
    "def clean_NumberOfReviews(x):\n",
    "    if '\\n' in x:\n",
    "        return x.replace('\\n', '')\n",
    "    else:\n",
    "        return x\n",
    "\n",
    "df['NumberOfReviews'] = df['NumberOfReviews'].apply(clean_NumberOfReviews)"
   ]
  },
  {
   "cell_type": "code",
   "execution_count": 34,
   "id": "624c456b-bb8e-4e95-a684-a5ac96724d08",
   "metadata": {},
   "outputs": [
    {
     "data": {
      "text/html": [
       "<div>\n",
       "<style scoped>\n",
       "    .dataframe tbody tr th:only-of-type {\n",
       "        vertical-align: middle;\n",
       "    }\n",
       "\n",
       "    .dataframe tbody tr th {\n",
       "        vertical-align: top;\n",
       "    }\n",
       "\n",
       "    .dataframe thead th {\n",
       "        text-align: right;\n",
       "    }\n",
       "</style>\n",
       "<table border=\"1\" class=\"dataframe\">\n",
       "  <thead>\n",
       "    <tr style=\"text-align: right;\">\n",
       "      <th></th>\n",
       "      <th>Name</th>\n",
       "      <th>Cuisines</th>\n",
       "      <th>City</th>\n",
       "      <th>Rating</th>\n",
       "      <th>NumberOfReviews</th>\n",
       "    </tr>\n",
       "  </thead>\n",
       "  <tbody>\n",
       "    <tr>\n",
       "      <th>0</th>\n",
       "      <td>Wakame - Riyadh</td>\n",
       "      <td>Japanese, Asian           ...</td>\n",
       "      <td>Riyadh</td>\n",
       "      <td>4.9</td>\n",
       "      <td>(                     ...</td>\n",
       "    </tr>\n",
       "    <tr>\n",
       "      <th>1</th>\n",
       "      <td>Morini Italian Restaurant - Jareed Hotel - Riyadh</td>\n",
       "      <td>International, Italian    ...</td>\n",
       "      <td>Riyadh</td>\n",
       "      <td>Very Good</td>\n",
       "      <td>(                     ...</td>\n",
       "    </tr>\n",
       "    <tr>\n",
       "      <th>2</th>\n",
       "      <td>Wakame - Jeddah</td>\n",
       "      <td>Chinese, Japanese         ...</td>\n",
       "      <td>Jeddah</td>\n",
       "      <td>4.8</td>\n",
       "      <td>(                     ...</td>\n",
       "    </tr>\n",
       "    <tr>\n",
       "      <th>3</th>\n",
       "      <td>Il Baretto Italian Restaurant - KAFD - Riyadh</td>\n",
       "      <td>Italian                   ...</td>\n",
       "      <td>Riyadh</td>\n",
       "      <td>Very Good</td>\n",
       "      <td>(                     ...</td>\n",
       "    </tr>\n",
       "    <tr>\n",
       "      <th>4</th>\n",
       "      <td>Vidro Lounge - Riyadh</td>\n",
       "      <td>Mediterranean, Middle East...</td>\n",
       "      <td>Riyadh</td>\n",
       "      <td>4.7</td>\n",
       "      <td>(                     ...</td>\n",
       "    </tr>\n",
       "    <tr>\n",
       "      <th>5</th>\n",
       "      <td>Tokyo Fine Dining Japanese - Restaurant - Riyadh</td>\n",
       "      <td>Japanese                  ...</td>\n",
       "      <td>Riyadh</td>\n",
       "      <td>Very Good</td>\n",
       "      <td>(                     ...</td>\n",
       "    </tr>\n",
       "    <tr>\n",
       "      <th>6</th>\n",
       "      <td>Pikniq Restaurant - Khobar</td>\n",
       "      <td>International, French, Ita...</td>\n",
       "      <td>Al Khobar</td>\n",
       "      <td>4.7</td>\n",
       "      <td>(                     ...</td>\n",
       "    </tr>\n",
       "    <tr>\n",
       "      <th>7</th>\n",
       "      <td>AOK Kitchen - KAFD - Riyadh</td>\n",
       "      <td>Gluten Free Option, Intern...</td>\n",
       "      <td>Riyadh</td>\n",
       "      <td>Very Good</td>\n",
       "      <td>(                     ...</td>\n",
       "    </tr>\n",
       "    <tr>\n",
       "      <th>8</th>\n",
       "      <td>Entrecote Cafe de Paris - AlUla</td>\n",
       "      <td>Swiss                     ...</td>\n",
       "      <td>AlUla</td>\n",
       "      <td>4.7</td>\n",
       "      <td>(                     ...</td>\n",
       "    </tr>\n",
       "    <tr>\n",
       "      <th>9</th>\n",
       "      <td>Swiss Butter - Sidra Mall - Riyadh</td>\n",
       "      <td>Steakhouse                ...</td>\n",
       "      <td>Riyadh</td>\n",
       "      <td>Very Good</td>\n",
       "      <td>(                     ...</td>\n",
       "    </tr>\n",
       "  </tbody>\n",
       "</table>\n",
       "</div>"
      ],
      "text/plain": [
       "                                                Name  \\\n",
       "0                                    Wakame - Riyadh   \n",
       "1  Morini Italian Restaurant - Jareed Hotel - Riyadh   \n",
       "2                                    Wakame - Jeddah   \n",
       "3      Il Baretto Italian Restaurant - KAFD - Riyadh   \n",
       "4                              Vidro Lounge - Riyadh   \n",
       "5   Tokyo Fine Dining Japanese - Restaurant - Riyadh   \n",
       "6                         Pikniq Restaurant - Khobar   \n",
       "7                        AOK Kitchen - KAFD - Riyadh   \n",
       "8                    Entrecote Cafe de Paris - AlUla   \n",
       "9                 Swiss Butter - Sidra Mall - Riyadh   \n",
       "\n",
       "                                            Cuisines  \\\n",
       "0                      Japanese, Asian           ...   \n",
       "1                      International, Italian    ...   \n",
       "2                      Chinese, Japanese         ...   \n",
       "3                      Italian                   ...   \n",
       "4                      Mediterranean, Middle East...   \n",
       "5                      Japanese                  ...   \n",
       "6                      International, French, Ita...   \n",
       "7                      Gluten Free Option, Intern...   \n",
       "8                      Swiss                     ...   \n",
       "9                      Steakhouse                ...   \n",
       "\n",
       "                                                City     Rating  \\\n",
       "0                         Riyadh                            4.9   \n",
       "1                         Riyadh                      Very Good   \n",
       "2                         Jeddah                            4.8   \n",
       "3                         Riyadh                      Very Good   \n",
       "4                         Riyadh                            4.7   \n",
       "5                         Riyadh                      Very Good   \n",
       "6                      Al Khobar                            4.7   \n",
       "7                         Riyadh                      Very Good   \n",
       "8                          AlUla                            4.7   \n",
       "9                         Riyadh                      Very Good   \n",
       "\n",
       "                                     NumberOfReviews  \n",
       "0                          (                     ...  \n",
       "1                          (                     ...  \n",
       "2                          (                     ...  \n",
       "3                          (                     ...  \n",
       "4                          (                     ...  \n",
       "5                          (                     ...  \n",
       "6                          (                     ...  \n",
       "7                          (                     ...  \n",
       "8                          (                     ...  \n",
       "9                          (                     ...  "
      ]
     },
     "execution_count": 34,
     "metadata": {},
     "output_type": "execute_result"
    }
   ],
   "source": [
    "df.head(10)"
   ]
  },
  {
   "cell_type": "code",
   "execution_count": 35,
   "id": "26774be7-8246-4fcc-a295-971a4898a888",
   "metadata": {},
   "outputs": [],
   "source": [
    "# Replacing textual ratings with numerical values\n",
    "df['Rating'] = df['Rating'].replace('Excellent', '5')\n",
    "df['Rating'] = df['Rating'].replace('Very Good', '4.5')\n",
    "df['Rating'] = df['Rating'].replace('Good', '3.5')"
   ]
  },
  {
   "cell_type": "code",
   "execution_count": 36,
   "id": "8343c984-0732-4425-b885-29cb16fdf044",
   "metadata": {},
   "outputs": [
    {
     "data": {
      "text/html": [
       "<div>\n",
       "<style scoped>\n",
       "    .dataframe tbody tr th:only-of-type {\n",
       "        vertical-align: middle;\n",
       "    }\n",
       "\n",
       "    .dataframe tbody tr th {\n",
       "        vertical-align: top;\n",
       "    }\n",
       "\n",
       "    .dataframe thead th {\n",
       "        text-align: right;\n",
       "    }\n",
       "</style>\n",
       "<table border=\"1\" class=\"dataframe\">\n",
       "  <thead>\n",
       "    <tr style=\"text-align: right;\">\n",
       "      <th></th>\n",
       "      <th>Name</th>\n",
       "      <th>Cuisines</th>\n",
       "      <th>City</th>\n",
       "      <th>Rating</th>\n",
       "      <th>NumberOfReviews</th>\n",
       "    </tr>\n",
       "  </thead>\n",
       "  <tbody>\n",
       "    <tr>\n",
       "      <th>0</th>\n",
       "      <td>Wakame - Riyadh</td>\n",
       "      <td>Japanese, Asian           ...</td>\n",
       "      <td>Riyadh</td>\n",
       "      <td>4.9</td>\n",
       "      <td>(                     ...</td>\n",
       "    </tr>\n",
       "    <tr>\n",
       "      <th>1</th>\n",
       "      <td>Morini Italian Restaurant - Jareed Hotel - Riyadh</td>\n",
       "      <td>International, Italian    ...</td>\n",
       "      <td>Riyadh</td>\n",
       "      <td>4.5</td>\n",
       "      <td>(                     ...</td>\n",
       "    </tr>\n",
       "    <tr>\n",
       "      <th>2</th>\n",
       "      <td>Wakame - Jeddah</td>\n",
       "      <td>Chinese, Japanese         ...</td>\n",
       "      <td>Jeddah</td>\n",
       "      <td>4.8</td>\n",
       "      <td>(                     ...</td>\n",
       "    </tr>\n",
       "    <tr>\n",
       "      <th>3</th>\n",
       "      <td>Il Baretto Italian Restaurant - KAFD - Riyadh</td>\n",
       "      <td>Italian                   ...</td>\n",
       "      <td>Riyadh</td>\n",
       "      <td>4.5</td>\n",
       "      <td>(                     ...</td>\n",
       "    </tr>\n",
       "    <tr>\n",
       "      <th>4</th>\n",
       "      <td>Vidro Lounge - Riyadh</td>\n",
       "      <td>Mediterranean, Middle East...</td>\n",
       "      <td>Riyadh</td>\n",
       "      <td>4.7</td>\n",
       "      <td>(                     ...</td>\n",
       "    </tr>\n",
       "    <tr>\n",
       "      <th>5</th>\n",
       "      <td>Tokyo Fine Dining Japanese - Restaurant - Riyadh</td>\n",
       "      <td>Japanese                  ...</td>\n",
       "      <td>Riyadh</td>\n",
       "      <td>4.5</td>\n",
       "      <td>(                     ...</td>\n",
       "    </tr>\n",
       "    <tr>\n",
       "      <th>6</th>\n",
       "      <td>Pikniq Restaurant - Khobar</td>\n",
       "      <td>International, French, Ita...</td>\n",
       "      <td>Al Khobar</td>\n",
       "      <td>4.7</td>\n",
       "      <td>(                     ...</td>\n",
       "    </tr>\n",
       "    <tr>\n",
       "      <th>7</th>\n",
       "      <td>AOK Kitchen - KAFD - Riyadh</td>\n",
       "      <td>Gluten Free Option, Intern...</td>\n",
       "      <td>Riyadh</td>\n",
       "      <td>4.5</td>\n",
       "      <td>(                     ...</td>\n",
       "    </tr>\n",
       "    <tr>\n",
       "      <th>8</th>\n",
       "      <td>Entrecote Cafe de Paris - AlUla</td>\n",
       "      <td>Swiss                     ...</td>\n",
       "      <td>AlUla</td>\n",
       "      <td>4.7</td>\n",
       "      <td>(                     ...</td>\n",
       "    </tr>\n",
       "    <tr>\n",
       "      <th>9</th>\n",
       "      <td>Swiss Butter - Sidra Mall - Riyadh</td>\n",
       "      <td>Steakhouse                ...</td>\n",
       "      <td>Riyadh</td>\n",
       "      <td>4.5</td>\n",
       "      <td>(                     ...</td>\n",
       "    </tr>\n",
       "  </tbody>\n",
       "</table>\n",
       "</div>"
      ],
      "text/plain": [
       "                                                Name  \\\n",
       "0                                    Wakame - Riyadh   \n",
       "1  Morini Italian Restaurant - Jareed Hotel - Riyadh   \n",
       "2                                    Wakame - Jeddah   \n",
       "3      Il Baretto Italian Restaurant - KAFD - Riyadh   \n",
       "4                              Vidro Lounge - Riyadh   \n",
       "5   Tokyo Fine Dining Japanese - Restaurant - Riyadh   \n",
       "6                         Pikniq Restaurant - Khobar   \n",
       "7                        AOK Kitchen - KAFD - Riyadh   \n",
       "8                    Entrecote Cafe de Paris - AlUla   \n",
       "9                 Swiss Butter - Sidra Mall - Riyadh   \n",
       "\n",
       "                                            Cuisines  \\\n",
       "0                      Japanese, Asian           ...   \n",
       "1                      International, Italian    ...   \n",
       "2                      Chinese, Japanese         ...   \n",
       "3                      Italian                   ...   \n",
       "4                      Mediterranean, Middle East...   \n",
       "5                      Japanese                  ...   \n",
       "6                      International, French, Ita...   \n",
       "7                      Gluten Free Option, Intern...   \n",
       "8                      Swiss                     ...   \n",
       "9                      Steakhouse                ...   \n",
       "\n",
       "                                                City Rating  \\\n",
       "0                         Riyadh                        4.9   \n",
       "1                         Riyadh                        4.5   \n",
       "2                         Jeddah                        4.8   \n",
       "3                         Riyadh                        4.5   \n",
       "4                         Riyadh                        4.7   \n",
       "5                         Riyadh                        4.5   \n",
       "6                      Al Khobar                        4.7   \n",
       "7                         Riyadh                        4.5   \n",
       "8                          AlUla                        4.7   \n",
       "9                         Riyadh                        4.5   \n",
       "\n",
       "                                     NumberOfReviews  \n",
       "0                          (                     ...  \n",
       "1                          (                     ...  \n",
       "2                          (                     ...  \n",
       "3                          (                     ...  \n",
       "4                          (                     ...  \n",
       "5                          (                     ...  \n",
       "6                          (                     ...  \n",
       "7                          (                     ...  \n",
       "8                          (                     ...  \n",
       "9                          (                     ...  "
      ]
     },
     "execution_count": 36,
     "metadata": {},
     "output_type": "execute_result"
    }
   ],
   "source": [
    "df.head(10)"
   ]
  },
  {
   "cell_type": "code",
   "execution_count": 37,
   "id": "54decf1d-800d-4864-9405-0b03aeb20d07",
   "metadata": {},
   "outputs": [],
   "source": [
    "# Converting the Rating column from string to float\n",
    "df['Rating'] = df['Rating'].astype(float)"
   ]
  },
  {
   "cell_type": "code",
   "execution_count": 38,
   "id": "3a7eba22-4727-4f4d-b7ee-3828ff8d8afa",
   "metadata": {},
   "outputs": [],
   "source": [
    "# Removing leading and trailing whitespace from the City column\n",
    "df['City'] = df['City'].str.strip()"
   ]
  },
  {
   "cell_type": "code",
   "execution_count": 39,
   "id": "8f4f8533-d295-420a-a651-9eb67de56024",
   "metadata": {},
   "outputs": [],
   "source": [
    "# Replacing \"The Riyadh Province\" with \"Riyadh\" in the City column\n",
    "df.replace({'City': {\"The Riyadh Province\": \"Riyadh\"}}, inplace=True)\n",
    "\n",
    "# Removing leading and trailing whitespace from the City column\n",
    "df['City'] = df['City'].str.strip()"
   ]
  },
  {
   "cell_type": "code",
   "execution_count": 40,
   "id": "be27596c-cbb3-4336-9b5c-e8661640de60",
   "metadata": {},
   "outputs": [
    {
     "data": {
      "text/plain": [
       "array(['Riyadh', 'Jeddah', 'Al Khobar', 'AlUla', 'Makkah', 'Madinah',\n",
       "       'Dammam', 'Jazan', 'Taif', 'Rabigh', 'Dhahran'], dtype=object)"
      ]
     },
     "execution_count": 40,
     "metadata": {},
     "output_type": "execute_result"
    }
   ],
   "source": [
    "df['City'].unique()"
   ]
  },
  {
   "cell_type": "code",
   "execution_count": 41,
   "id": "a3652c18-dfbb-4ef4-a025-0abb78f3eac7",
   "metadata": {},
   "outputs": [],
   "source": [
    "# Extracting the first part of the Name column by splitting on the dash\n",
    "df['Name'] = df['Name'].apply(lambda x: x.split('-')[0])\n",
    "\n",
    "# Stripping any leading and trailing whitespace from the Cuisines column\n",
    "df['Cuisines'] = df['Cuisines'].apply(lambda x: x.strip())"
   ]
  },
  {
   "cell_type": "code",
   "execution_count": 42,
   "id": "a21e8464-46a4-4e86-b8f3-c5566d55c8b1",
   "metadata": {},
   "outputs": [
    {
     "data": {
      "text/html": [
       "<div>\n",
       "<style scoped>\n",
       "    .dataframe tbody tr th:only-of-type {\n",
       "        vertical-align: middle;\n",
       "    }\n",
       "\n",
       "    .dataframe tbody tr th {\n",
       "        vertical-align: top;\n",
       "    }\n",
       "\n",
       "    .dataframe thead th {\n",
       "        text-align: right;\n",
       "    }\n",
       "</style>\n",
       "<table border=\"1\" class=\"dataframe\">\n",
       "  <thead>\n",
       "    <tr style=\"text-align: right;\">\n",
       "      <th></th>\n",
       "      <th>Name</th>\n",
       "      <th>Cuisines</th>\n",
       "      <th>City</th>\n",
       "      <th>Rating</th>\n",
       "      <th>NumberOfReviews</th>\n",
       "    </tr>\n",
       "  </thead>\n",
       "  <tbody>\n",
       "    <tr>\n",
       "      <th>0</th>\n",
       "      <td>Wakame</td>\n",
       "      <td>Japanese, Asian</td>\n",
       "      <td>Riyadh</td>\n",
       "      <td>4.9</td>\n",
       "      <td>(                     ...</td>\n",
       "    </tr>\n",
       "    <tr>\n",
       "      <th>1</th>\n",
       "      <td>Morini Italian Restaurant</td>\n",
       "      <td>International, Italian</td>\n",
       "      <td>Riyadh</td>\n",
       "      <td>4.5</td>\n",
       "      <td>(                     ...</td>\n",
       "    </tr>\n",
       "    <tr>\n",
       "      <th>2</th>\n",
       "      <td>Wakame</td>\n",
       "      <td>Chinese, Japanese</td>\n",
       "      <td>Jeddah</td>\n",
       "      <td>4.8</td>\n",
       "      <td>(                     ...</td>\n",
       "    </tr>\n",
       "    <tr>\n",
       "      <th>3</th>\n",
       "      <td>Il Baretto Italian Restaurant</td>\n",
       "      <td>Italian</td>\n",
       "      <td>Riyadh</td>\n",
       "      <td>4.5</td>\n",
       "      <td>(                     ...</td>\n",
       "    </tr>\n",
       "    <tr>\n",
       "      <th>4</th>\n",
       "      <td>Vidro Lounge</td>\n",
       "      <td>Mediterranean, Middle Eastern</td>\n",
       "      <td>Riyadh</td>\n",
       "      <td>4.7</td>\n",
       "      <td>(                     ...</td>\n",
       "    </tr>\n",
       "    <tr>\n",
       "      <th>5</th>\n",
       "      <td>Tokyo Fine Dining Japanese</td>\n",
       "      <td>Japanese</td>\n",
       "      <td>Riyadh</td>\n",
       "      <td>4.5</td>\n",
       "      <td>(                     ...</td>\n",
       "    </tr>\n",
       "    <tr>\n",
       "      <th>6</th>\n",
       "      <td>Pikniq Restaurant</td>\n",
       "      <td>International, French, Italian</td>\n",
       "      <td>Al Khobar</td>\n",
       "      <td>4.7</td>\n",
       "      <td>(                     ...</td>\n",
       "    </tr>\n",
       "    <tr>\n",
       "      <th>7</th>\n",
       "      <td>AOK Kitchen</td>\n",
       "      <td>Gluten Free Option, International</td>\n",
       "      <td>Riyadh</td>\n",
       "      <td>4.5</td>\n",
       "      <td>(                     ...</td>\n",
       "    </tr>\n",
       "    <tr>\n",
       "      <th>8</th>\n",
       "      <td>Entrecote Cafe de Paris</td>\n",
       "      <td>Swiss</td>\n",
       "      <td>AlUla</td>\n",
       "      <td>4.7</td>\n",
       "      <td>(                     ...</td>\n",
       "    </tr>\n",
       "    <tr>\n",
       "      <th>9</th>\n",
       "      <td>Swiss Butter</td>\n",
       "      <td>Steakhouse</td>\n",
       "      <td>Riyadh</td>\n",
       "      <td>4.5</td>\n",
       "      <td>(                     ...</td>\n",
       "    </tr>\n",
       "  </tbody>\n",
       "</table>\n",
       "</div>"
      ],
      "text/plain": [
       "                             Name                           Cuisines  \\\n",
       "0                         Wakame                     Japanese, Asian   \n",
       "1      Morini Italian Restaurant              International, Italian   \n",
       "2                         Wakame                   Chinese, Japanese   \n",
       "3  Il Baretto Italian Restaurant                             Italian   \n",
       "4                   Vidro Lounge       Mediterranean, Middle Eastern   \n",
       "5     Tokyo Fine Dining Japanese                            Japanese   \n",
       "6              Pikniq Restaurant      International, French, Italian   \n",
       "7                    AOK Kitchen   Gluten Free Option, International   \n",
       "8        Entrecote Cafe de Paris                               Swiss   \n",
       "9                   Swiss Butter                          Steakhouse   \n",
       "\n",
       "        City  Rating                                    NumberOfReviews  \n",
       "0     Riyadh     4.9                          (                     ...  \n",
       "1     Riyadh     4.5                          (                     ...  \n",
       "2     Jeddah     4.8                          (                     ...  \n",
       "3     Riyadh     4.5                          (                     ...  \n",
       "4     Riyadh     4.7                          (                     ...  \n",
       "5     Riyadh     4.5                          (                     ...  \n",
       "6  Al Khobar     4.7                          (                     ...  \n",
       "7     Riyadh     4.5                          (                     ...  \n",
       "8      AlUla     4.7                          (                     ...  \n",
       "9     Riyadh     4.5                          (                     ...  "
      ]
     },
     "execution_count": 42,
     "metadata": {},
     "output_type": "execute_result"
    }
   ],
   "source": [
    "df.head(10)"
   ]
  },
  {
   "cell_type": "code",
   "execution_count": 43,
   "id": "3778ca5b-7640-435d-a53e-28043d89745a",
   "metadata": {},
   "outputs": [],
   "source": [
    "# Cleaning and standardizing the NumberOfReviews column\n",
    "df['NumberOfReviews'] = df['NumberOfReviews'].str.replace(r'\\(\\s*(.*?)\\s*\\)', r'(\\1)', regex=True)\n",
    "df['NumberOfReviews'] = df['NumberOfReviews'].str.strip()\n",
    "df['NumberOfReviews'] = df['NumberOfReviews'].str.strip('()')\n",
    "df['NumberOfReviews'] = df['NumberOfReviews'].str.strip('Reviews')\n",
    "df['NumberOfReviews'] = df['NumberOfReviews'].str.strip()"
   ]
  },
  {
   "cell_type": "code",
   "execution_count": 44,
   "id": "e32f8632-4df9-4787-b186-7823e7423946",
   "metadata": {},
   "outputs": [
    {
     "data": {
      "text/html": [
       "<div>\n",
       "<style scoped>\n",
       "    .dataframe tbody tr th:only-of-type {\n",
       "        vertical-align: middle;\n",
       "    }\n",
       "\n",
       "    .dataframe tbody tr th {\n",
       "        vertical-align: top;\n",
       "    }\n",
       "\n",
       "    .dataframe thead th {\n",
       "        text-align: right;\n",
       "    }\n",
       "</style>\n",
       "<table border=\"1\" class=\"dataframe\">\n",
       "  <thead>\n",
       "    <tr style=\"text-align: right;\">\n",
       "      <th></th>\n",
       "      <th>Name</th>\n",
       "      <th>Cuisines</th>\n",
       "      <th>City</th>\n",
       "      <th>Rating</th>\n",
       "      <th>NumberOfReviews</th>\n",
       "    </tr>\n",
       "  </thead>\n",
       "  <tbody>\n",
       "    <tr>\n",
       "      <th>0</th>\n",
       "      <td>Wakame</td>\n",
       "      <td>Japanese, Asian</td>\n",
       "      <td>Riyadh</td>\n",
       "      <td>4.9</td>\n",
       "      <td>20</td>\n",
       "    </tr>\n",
       "    <tr>\n",
       "      <th>1</th>\n",
       "      <td>Morini Italian Restaurant</td>\n",
       "      <td>International, Italian</td>\n",
       "      <td>Riyadh</td>\n",
       "      <td>4.5</td>\n",
       "      <td>18</td>\n",
       "    </tr>\n",
       "    <tr>\n",
       "      <th>2</th>\n",
       "      <td>Wakame</td>\n",
       "      <td>Chinese, Japanese</td>\n",
       "      <td>Jeddah</td>\n",
       "      <td>4.8</td>\n",
       "      <td>63</td>\n",
       "    </tr>\n",
       "    <tr>\n",
       "      <th>3</th>\n",
       "      <td>Il Baretto Italian Restaurant</td>\n",
       "      <td>Italian</td>\n",
       "      <td>Riyadh</td>\n",
       "      <td>4.5</td>\n",
       "      <td>30</td>\n",
       "    </tr>\n",
       "    <tr>\n",
       "      <th>4</th>\n",
       "      <td>Vidro Lounge</td>\n",
       "      <td>Mediterranean, Middle Eastern</td>\n",
       "      <td>Riyadh</td>\n",
       "      <td>4.7</td>\n",
       "      <td>31</td>\n",
       "    </tr>\n",
       "  </tbody>\n",
       "</table>\n",
       "</div>"
      ],
      "text/plain": [
       "                             Name                       Cuisines    City  \\\n",
       "0                         Wakame                 Japanese, Asian  Riyadh   \n",
       "1      Morini Italian Restaurant          International, Italian  Riyadh   \n",
       "2                         Wakame               Chinese, Japanese  Jeddah   \n",
       "3  Il Baretto Italian Restaurant                         Italian  Riyadh   \n",
       "4                   Vidro Lounge   Mediterranean, Middle Eastern  Riyadh   \n",
       "\n",
       "   Rating NumberOfReviews  \n",
       "0     4.9              20  \n",
       "1     4.5              18  \n",
       "2     4.8              63  \n",
       "3     4.5              30  \n",
       "4     4.7              31  "
      ]
     },
     "execution_count": 44,
     "metadata": {},
     "output_type": "execute_result"
    }
   ],
   "source": [
    "df.head()"
   ]
  },
  {
   "cell_type": "markdown",
   "id": "6be66b32-69ad-431c-86aa-d1aef2c39836",
   "metadata": {},
   "source": [
    "## Questions:"
   ]
  },
  {
   "cell_type": "markdown",
   "id": "3561b841-dc48-473c-8753-4abc1275eb8d",
   "metadata": {},
   "source": [
    "### 1-Top 10 Restaurants in Riyadh :"
   ]
  },
  {
   "cell_type": "code",
   "execution_count": 47,
   "id": "428da400-89e9-455a-9742-6b7fa555c2aa",
   "metadata": {},
   "outputs": [
    {
     "data": {
      "image/png": "[encoded data removed]",
      "text/plain": [
       "<Figure size 1000x600 with 1 Axes>"
      ]
     },
     "metadata": {},
     "output_type": "display_data"
    }
   ],
   "source": [
    "riyadh_restaurants = df[df['City'] == (\"Riyadh\")]\n",
    "top_riyadh_restaurants = riyadh_restaurants.sort_values(by=['Rating'], ascending=[False]).head(10)\n",
    "\n",
    "plt.figure(figsize=(10, 6))\n",
    "plt.barh(top_riyadh_restaurants['Name'], top_riyadh_restaurants['Rating'], color='lightseagreen')\n",
    "plt.xlabel('Rating')\n",
    "plt.title('Top 10 Restaurants in Riyadh ')\n",
    "plt.gca().invert_yaxis() \n",
    "plt.show()"
   ]
  },
  {
   "cell_type": "markdown",
   "id": "443bf474-616d-40cf-bebe-dfb3b87928b1",
   "metadata": {},
   "source": [
    "### 2-Average Restaurant Ratings by City :"
   ]
  },
  {
   "cell_type": "code",
   "execution_count": 49,
   "id": "051422ab-2821-4c9f-9f61-473edb840341",
   "metadata": {},
   "outputs": [
    {
     "data": {
      "image/png": "[encoded data removed]",
      "text/plain": [
       "<Figure size 1000x600 with 1 Axes>"
      ]
     },
     "metadata": {},
     "output_type": "display_data"
    }
   ],
   "source": [
    "city_avg_ratings = df.groupby('City')['Rating'].mean().sort_values(ascending=False)\n",
    "\n",
    "top_city = city_avg_ratings.idxmax()\n",
    "top_city_avg_rating = city_avg_ratings.max()\n",
    "\n",
    "\n",
    "plt.figure(figsize=(10, 6))\n",
    "plt.bar(city_avg_ratings.index, city_avg_ratings, color='lightseagreen')\n",
    "plt.xlabel('City')\n",
    "plt.ylabel('Average Rating')\n",
    "plt.title('Average Restaurant Ratings by City')\n",
    "plt.xticks(rotation=90)\n",
    "plt.show()"
   ]
  },
  {
   "cell_type": "markdown",
   "id": "fd5a7f34-df71-4a31-9003-e3432143b8a8",
   "metadata": {},
   "source": [
    "### 3-best restaurants in every city :"
   ]
  },
  {
   "cell_type": "code",
   "execution_count": 51,
   "id": "332673ae-a84d-4940-a5ed-71688c14a785",
   "metadata": {},
   "outputs": [
    {
     "data": {
      "image/png": "[encoded data removed]",
      "text/plain": [
       "<Figure size 1200x800 with 1 Axes>"
      ]
     },
     "metadata": {},
     "output_type": "display_data"
    }
   ],
   "source": [
    "best_restaurants = df.loc[df.groupby('City')['Rating'].idxmax()]\n",
    "\n",
    "best_restaurants_sorted = best_restaurants.sort_values(by='Rating', ascending=True)\n",
    "\n",
    "plt.figure(figsize=(12, 8))\n",
    "plt.barh(best_restaurants_sorted['Name'] + ' - ' + best_restaurants_sorted['City'], best_restaurants_sorted['Rating'], color='lightseagreen')\n",
    "plt.xlabel('Rating')\n",
    "plt.title('Best Restaurants in Every City')\n",
    "plt.show()"
   ]
  },
  {
   "cell_type": "markdown",
   "id": "3fcecc57-8299-4a46-ae94-bb1acd6a25e4",
   "metadata": {},
   "source": [
    "### 4- City with the Most Restaurants Rated 5 :"
   ]
  },
  {
   "cell_type": "code",
   "execution_count": 53,
   "id": "debb26e1-878f-45c6-a5e9-dd7a72917e2a",
   "metadata": {},
   "outputs": [
    {
     "data": {
      "image/png": "[encoded data removed]",
      "text/plain": [
       "<Figure size 1000x600 with 1 Axes>"
      ]
     },
     "metadata": {},
     "output_type": "display_data"
    }
   ],
   "source": [
    "top_rated_restaurants = df[df['Rating'] == 5]\n",
    "city_top_rated_count = top_rated_restaurants['City'].value_counts()\n",
    "\n",
    "plt.figure(figsize=(10, 6))\n",
    "plt.barh(city_top_rated_count.index, city_top_rated_count, color='lightseagreen')\n",
    "plt.xlabel('Number of Restaurants Rated 5')\n",
    "plt.title('City with the Most Restaurants Rated 5')\n",
    "plt.gca().invert_yaxis()  \n",
    "plt.show()"
   ]
  },
  {
   "cell_type": "markdown",
   "id": "44015ca0-c0fc-49d6-a93c-6b9bea54a49a",
   "metadata": {},
   "source": [
    "### 5- Top 10 Middle Eastern Restaurants in Riyadh:"
   ]
  },
  {
   "cell_type": "code",
   "execution_count": 55,
   "id": "dcb8ad1f-448b-47f8-a1c4-14f1f3b93079",
   "metadata": {},
   "outputs": [],
   "source": [
    "df['City'] = df['City'].str.strip()\n",
    "Middle_df = df[(df['Cuisines'].str.contains('Middle', case=False, na=False)) & (df['City'] == 'Riyadh')]"
   ]
  },
  {
   "cell_type": "code",
   "execution_count": 56,
   "id": "04868d46-5ad3-43fb-9e74-6dc4f7c93d63",
   "metadata": {},
   "outputs": [
    {
     "data": {
      "image/png": "[encoded data removed]",
      "text/plain": [
       "<Figure size 1000x600 with 1 Axes>"
      ]
     },
     "metadata": {},
     "output_type": "display_data"
    }
   ],
   "source": [
    "top_10 = Middle_df.sort_values(by=['Rating'], ascending=False).head(10)\n",
    "\n",
    "plt.figure(figsize=(10, 6))\n",
    "plt.barh(top_10['Name'], top_10['Rating'], color='lightseagreen')\n",
    "plt.xlabel('Rating')\n",
    "plt.title('Top 10 Middle Eastern Restaurants in Riyadh')\n",
    "plt.gca().invert_yaxis()  \n",
    "plt.show()"
   ]
  },
  {
   "cell_type": "markdown",
   "id": "a6e4f10f-ef94-4cc2-80b5-7c63eda2b424",
   "metadata": {},
   "source": [
    "### 6-Top 10 Italian Restaurants in Riyadh :"
   ]
  },
  {
   "cell_type": "code",
   "execution_count": 58,
   "id": "5862606c-bc58-434c-8ca0-91f09864887a",
   "metadata": {},
   "outputs": [],
   "source": [
    "df['City'] = df['City'].str.strip()\n",
    "Italian_df = df[(df['Cuisines'].str.contains('Italian', case=False, na=False)) & (df['City'] == 'Riyadh')]"
   ]
  },
  {
   "cell_type": "code",
   "execution_count": 59,
   "id": "1e944cb1-4ad1-4234-9732-0912ca04c873",
   "metadata": {},
   "outputs": [
    {
     "data": {
      "image/png": "[encoded data removed]",
      "text/plain": [
       "<Figure size 1000x600 with 1 Axes>"
      ]
     },
     "metadata": {},
     "output_type": "display_data"
    }
   ],
   "source": [
    "top_10_italian = Italian_df.sort_values(by=['Rating'], ascending=False).head(10)\n",
    "\n",
    "plt.figure(figsize=(10, 6))\n",
    "plt.barh(top_10_italian['Name'], top_10_italian['Rating'], color='lightseagreen')\n",
    "plt.xlabel('Rating')\n",
    "plt.title('Top 10 Italian Restaurants in Riyadh')\n",
    "plt.gca().invert_yaxis()  \n",
    "plt.show()"
   ]
  },
  {
   "cell_type": "markdown",
   "id": "aad7ae72-9b3b-4d23-ae83-b0a2399d1501",
   "metadata": {},
   "source": [
    "### 7-Top 10 Asian Restaurants in Riyadh :"
   ]
  },
  {
   "cell_type": "code",
   "execution_count": 61,
   "id": "f231881d-2cff-431c-ada8-baed21d50ad1",
   "metadata": {},
   "outputs": [],
   "source": [
    "df['City'] = df['City'].str.strip()\n",
    "Asian_df = df[(df['Cuisines'].str.contains('Asian', case=False, na=False)) & (df['City'] == 'Riyadh')]"
   ]
  },
  {
   "cell_type": "code",
   "execution_count": 62,
   "id": "5e443a4a-769a-406e-b38d-9717037997ae",
   "metadata": {},
   "outputs": [
    {
     "data": {
      "image/png": "[encoded data removed]",
      "text/plain": [
       "<Figure size 1000x600 with 1 Axes>"
      ]
     },
     "metadata": {},
     "output_type": "display_data"
    }
   ],
   "source": [
    "top_10_asian = Asian_df.sort_values(by=['Rating'], ascending=False).head(10)\n",
    "\n",
    "plt.figure(figsize=(10, 6))\n",
    "plt.barh(top_10_asian['Name'], top_10_asian['Rating'], color='lightseagreen')\n",
    "plt.xlabel('Rating')\n",
    "plt.title('Top 10 Asian Restaurants in Riyadh')\n",
    "plt.gca().invert_yaxis()  \n",
    "plt.show()"
   ]
  },
  {
   "cell_type": "markdown",
   "id": "9b389a3b-e545-42d7-931f-e7fb868174f8",
   "metadata": {},
   "source": [
    "### 8-Top 10 Cafes in Riyadh :"
   ]
  },
  {
   "cell_type": "code",
   "execution_count": 64,
   "id": "46e5e80f-1c72-4909-9b53-bcd985570e7f",
   "metadata": {},
   "outputs": [],
   "source": [
    "df['City'] = df['City'].str.strip()\n",
    "Cafe_df = df[(df['Cuisines'].str.contains('Cafe', case=False, na=False)) & (df['City'] == 'Riyadh')]"
   ]
  },
  {
   "cell_type": "code",
   "execution_count": 65,
   "id": "ecbdd44d-8e08-4e61-af8c-8a29dbd80956",
   "metadata": {},
   "outputs": [
    {
     "data": {
      "image/png": "[encoded data removed]",
      "text/plain": [
       "<Figure size 1000x600 with 1 Axes>"
      ]
     },
     "metadata": {},
     "output_type": "display_data"
    }
   ],
   "source": [
    "top_10_cafe = Cafe_df.sort_values(by=['Rating'], ascending=False).head(10)\n",
    "\n",
    "plt.figure(figsize=(10, 6))\n",
    "plt.barh(top_10_cafe['Name'], top_10_cafe['Rating'], color='lightseagreen')\n",
    "plt.xlabel('Rating')\n",
    "plt.title('Top 10 Cafes in Riyadh')\n",
    "plt.gca().invert_yaxis() \n",
    "plt.show()"
   ]
  },
  {
   "cell_type": "code",
   "execution_count": 66,
   "id": "120ee8d7-ffa0-464f-ad6d-4b3ba285f909",
   "metadata": {},
   "outputs": [],
   "source": [
    "df.to_csv(\"cleaned.csv\")"
   ]
  },
  {
   "cell_type": "code",
   "execution_count": 67,
   "id": "511ab15e-7246-438b-aebf-db0a0b5e8816",
   "metadata": {},
   "outputs": [
    {
     "data": {
      "text/html": [
       "<div>\n",
       "<style scoped>\n",
       "    .dataframe tbody tr th:only-of-type {\n",
       "        vertical-align: middle;\n",
       "    }\n",
       "\n",
       "    .dataframe tbody tr th {\n",
       "        vertical-align: top;\n",
       "    }\n",
       "\n",
       "    .dataframe thead th {\n",
       "        text-align: right;\n",
       "    }\n",
       "</style>\n",
       "<table border=\"1\" class=\"dataframe\">\n",
       "  <thead>\n",
       "    <tr style=\"text-align: right;\">\n",
       "      <th></th>\n",
       "      <th>Name</th>\n",
       "      <th>Cuisines</th>\n",
       "      <th>City</th>\n",
       "      <th>Rating</th>\n",
       "      <th>NumberOfReviews</th>\n",
       "    </tr>\n",
       "  </thead>\n",
       "  <tbody>\n",
       "    <tr>\n",
       "      <th>0</th>\n",
       "      <td>Wakame</td>\n",
       "      <td>Japanese, Asian</td>\n",
       "      <td>Riyadh</td>\n",
       "      <td>4.9</td>\n",
       "      <td>20</td>\n",
       "    </tr>\n",
       "    <tr>\n",
       "      <th>1</th>\n",
       "      <td>Morini Italian Restaurant</td>\n",
       "      <td>International, Italian</td>\n",
       "      <td>Riyadh</td>\n",
       "      <td>4.5</td>\n",
       "      <td>18</td>\n",
       "    </tr>\n",
       "    <tr>\n",
       "      <th>2</th>\n",
       "      <td>Wakame</td>\n",
       "      <td>Chinese, Japanese</td>\n",
       "      <td>Jeddah</td>\n",
       "      <td>4.8</td>\n",
       "      <td>63</td>\n",
       "    </tr>\n",
       "    <tr>\n",
       "      <th>3</th>\n",
       "      <td>Il Baretto Italian Restaurant</td>\n",
       "      <td>Italian</td>\n",
       "      <td>Riyadh</td>\n",
       "      <td>4.5</td>\n",
       "      <td>30</td>\n",
       "    </tr>\n",
       "    <tr>\n",
       "      <th>4</th>\n",
       "      <td>Vidro Lounge</td>\n",
       "      <td>Mediterranean, Middle Eastern</td>\n",
       "      <td>Riyadh</td>\n",
       "      <td>4.7</td>\n",
       "      <td>31</td>\n",
       "    </tr>\n",
       "    <tr>\n",
       "      <th>5</th>\n",
       "      <td>Tokyo Fine Dining Japanese</td>\n",
       "      <td>Japanese</td>\n",
       "      <td>Riyadh</td>\n",
       "      <td>4.5</td>\n",
       "      <td>58</td>\n",
       "    </tr>\n",
       "    <tr>\n",
       "      <th>6</th>\n",
       "      <td>Pikniq Restaurant</td>\n",
       "      <td>International, French, Italian</td>\n",
       "      <td>Al Khobar</td>\n",
       "      <td>4.7</td>\n",
       "      <td>42</td>\n",
       "    </tr>\n",
       "    <tr>\n",
       "      <th>7</th>\n",
       "      <td>AOK Kitchen</td>\n",
       "      <td>Gluten Free Option, International</td>\n",
       "      <td>Riyadh</td>\n",
       "      <td>4.5</td>\n",
       "      <td>38</td>\n",
       "    </tr>\n",
       "    <tr>\n",
       "      <th>8</th>\n",
       "      <td>Entrecote Cafe de Paris</td>\n",
       "      <td>Swiss</td>\n",
       "      <td>AlUla</td>\n",
       "      <td>4.7</td>\n",
       "      <td>20</td>\n",
       "    </tr>\n",
       "    <tr>\n",
       "      <th>9</th>\n",
       "      <td>Swiss Butter</td>\n",
       "      <td>Steakhouse</td>\n",
       "      <td>Riyadh</td>\n",
       "      <td>4.5</td>\n",
       "      <td>25</td>\n",
       "    </tr>\n",
       "    <tr>\n",
       "      <th>10</th>\n",
       "      <td>Swiss Butter</td>\n",
       "      <td>Steakhouse</td>\n",
       "      <td>Al Khobar</td>\n",
       "      <td>4.6</td>\n",
       "      <td>7</td>\n",
       "    </tr>\n",
       "    <tr>\n",
       "      <th>11</th>\n",
       "      <td>Suhail Arabic Restaurant</td>\n",
       "      <td>Arabic, Saudi</td>\n",
       "      <td>Riyadh</td>\n",
       "      <td>4.5</td>\n",
       "      <td>35</td>\n",
       "    </tr>\n",
       "    <tr>\n",
       "      <th>12</th>\n",
       "      <td>Rove By Mint</td>\n",
       "      <td>Italian, Mediterranean, Greek</td>\n",
       "      <td>Al Khobar</td>\n",
       "      <td>4.6</td>\n",
       "      <td>26</td>\n",
       "    </tr>\n",
       "    <tr>\n",
       "      <th>13</th>\n",
       "      <td>Swiss Butter</td>\n",
       "      <td>Steakhouse</td>\n",
       "      <td>Riyadh</td>\n",
       "      <td>4.5</td>\n",
       "      <td>28</td>\n",
       "    </tr>\n",
       "    <tr>\n",
       "      <th>14</th>\n",
       "      <td>Daily Edition Cafe</td>\n",
       "      <td>Asian, International</td>\n",
       "      <td>Jeddah</td>\n",
       "      <td>4.6</td>\n",
       "      <td>24</td>\n",
       "    </tr>\n",
       "    <tr>\n",
       "      <th>15</th>\n",
       "      <td>Yauatcha Riyadh</td>\n",
       "      <td>Chinese</td>\n",
       "      <td>Riyadh</td>\n",
       "      <td>4.5</td>\n",
       "      <td>42</td>\n",
       "    </tr>\n",
       "    <tr>\n",
       "      <th>16</th>\n",
       "      <td>Entrecôte Café de Paris</td>\n",
       "      <td>Swiss</td>\n",
       "      <td>Riyadh</td>\n",
       "      <td>4.6</td>\n",
       "      <td>27</td>\n",
       "    </tr>\n",
       "    <tr>\n",
       "      <th>17</th>\n",
       "      <td>Lusin Armenian Restaurant</td>\n",
       "      <td>Armenian</td>\n",
       "      <td>Riyadh</td>\n",
       "      <td>4.5</td>\n",
       "      <td>41</td>\n",
       "    </tr>\n",
       "    <tr>\n",
       "      <th>18</th>\n",
       "      <td>Lusin Armenian Restaurant</td>\n",
       "      <td>Armenian, Turkish, Vegetarian</td>\n",
       "      <td>Al Khobar</td>\n",
       "      <td>4.6</td>\n",
       "      <td>18</td>\n",
       "    </tr>\n",
       "    <tr>\n",
       "      <th>19</th>\n",
       "      <td>Suhail Restaurant</td>\n",
       "      <td>Arabic, Saudi</td>\n",
       "      <td>AlUla</td>\n",
       "      <td>4.5</td>\n",
       "      <td>12</td>\n",
       "    </tr>\n",
       "  </tbody>\n",
       "</table>\n",
       "</div>"
      ],
      "text/plain": [
       "                              Name                           Cuisines  \\\n",
       "0                          Wakame                     Japanese, Asian   \n",
       "1       Morini Italian Restaurant              International, Italian   \n",
       "2                          Wakame                   Chinese, Japanese   \n",
       "3   Il Baretto Italian Restaurant                             Italian   \n",
       "4                    Vidro Lounge       Mediterranean, Middle Eastern   \n",
       "5      Tokyo Fine Dining Japanese                            Japanese   \n",
       "6               Pikniq Restaurant      International, French, Italian   \n",
       "7                     AOK Kitchen   Gluten Free Option, International   \n",
       "8         Entrecote Cafe de Paris                               Swiss   \n",
       "9                    Swiss Butter                          Steakhouse   \n",
       "10                   Swiss Butter                          Steakhouse   \n",
       "11       Suhail Arabic Restaurant                       Arabic, Saudi   \n",
       "12                   Rove By Mint       Italian, Mediterranean, Greek   \n",
       "13                   Swiss Butter                          Steakhouse   \n",
       "14             Daily Edition Cafe                Asian, International   \n",
       "15                 Yauatcha Riyadh                            Chinese   \n",
       "16        Entrecôte Café de Paris                               Swiss   \n",
       "17      Lusin Armenian Restaurant                            Armenian   \n",
       "18      Lusin Armenian Restaurant       Armenian, Turkish, Vegetarian   \n",
       "19              Suhail Restaurant                       Arabic, Saudi   \n",
       "\n",
       "         City  Rating NumberOfReviews  \n",
       "0      Riyadh     4.9              20  \n",
       "1      Riyadh     4.5              18  \n",
       "2      Jeddah     4.8              63  \n",
       "3      Riyadh     4.5              30  \n",
       "4      Riyadh     4.7              31  \n",
       "5      Riyadh     4.5              58  \n",
       "6   Al Khobar     4.7              42  \n",
       "7      Riyadh     4.5              38  \n",
       "8       AlUla     4.7              20  \n",
       "9      Riyadh     4.5              25  \n",
       "10  Al Khobar     4.6               7  \n",
       "11     Riyadh     4.5              35  \n",
       "12  Al Khobar     4.6              26  \n",
       "13     Riyadh     4.5              28  \n",
       "14     Jeddah     4.6              24  \n",
       "15     Riyadh     4.5              42  \n",
       "16     Riyadh     4.6              27  \n",
       "17     Riyadh     4.5              41  \n",
       "18  Al Khobar     4.6              18  \n",
       "19      AlUla     4.5              12  "
      ]
     },
     "execution_count": 67,
     "metadata": {},
     "output_type": "execute_result"
    }
   ],
   "source": [
    "df.head(20)"
   ]
  },
  {
   "cell_type": "markdown",
   "id": "0d63d4c3-b292-47b8-a9cb-e5f81568cac1",
   "metadata": {},
   "source": [
    "### 9-Number of Restaurants by Cuisine in Riyadh:"
   ]
  },
  {
   "cell_type": "code",
   "execution_count": 69,
   "id": "992be4cd-a2ca-4411-8b4c-30e535c2e2e1",
   "metadata": {},
   "outputs": [
    {
     "data": {
      "image/png": "[encoded data removed]",
      "text/plain": [
       "<Figure size 800x500 with 1 Axes>"
      ]
     },
     "metadata": {},
     "output_type": "display_data"
    }
   ],
   "source": [
    "cuisine_counts = {\n",
    "    'Middle Eastern': len(Middle_df),\n",
    "    'Italian': len(Italian_df),\n",
    "    'Asian': len(Asian_df)\n",
    "}\n",
    "\n",
    "plt.figure(figsize=(8, 5))\n",
    "plt.bar(cuisine_counts.keys(), cuisine_counts.values(), color=['lightblue', 'lightseagreen', 'lightcoral'])\n",
    "plt.title('Number of Restaurants by Cuisine in Riyadh')\n",
    "plt.xlabel('Cuisine')\n",
    "plt.ylabel('Number of Restaurants')\n",
    "plt.show()"
   ]
  },
  {
   "cell_type": "code",
   "execution_count": null,
   "id": "5bead3c4-8817-4b19-8688-a707a7936934",
   "metadata": {},
   "outputs": [],
   "source": []
  }
 ],
 "metadata": {
  "kernelspec": {
   "display_name": "Python 3 (ipykernel)",
   "language": "python",
   "name": "python3"
  },
  "language_info": {
   "codemirror_mode": {
    "name": "ipython",
    "version": 3
   },
   "file_extension": ".py",
   "mimetype": "text/x-python",
   "name": "python",
   "nbconvert_exporter": "python",
   "pygments_lexer": "ipython3",
   "version": "3.12.4"
  }
 },
 "nbformat": 4,
 "nbformat_minor": 5
}
